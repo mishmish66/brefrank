{
 "cells": [
  {
   "cell_type": "code",
   "execution_count": 1,
   "metadata": {
    "tags": []
   },
   "outputs": [
    {
     "name": "stdout",
     "output_type": "stream",
     "text": [
      "Looking in links: https://storage.googleapis.com/jax-releases/jax_cuda_releases.html\n",
      "Requirement already satisfied: jax[cuda12_pip] in ./miniconda/lib/python3.10/site-packages (0.4.10)\n",
      "Requirement already satisfied: numpy>=1.21 in ./miniconda/lib/python3.10/site-packages (from jax[cuda12_pip]) (1.24.3)\n",
      "Requirement already satisfied: opt-einsum in ./miniconda/lib/python3.10/site-packages (from jax[cuda12_pip]) (3.3.0)\n",
      "Requirement already satisfied: scipy>=1.7 in ./miniconda/lib/python3.10/site-packages (from jax[cuda12_pip]) (1.10.1)\n",
      "Requirement already satisfied: ml-dtypes>=0.1.0 in ./miniconda/lib/python3.10/site-packages (from jax[cuda12_pip]) (0.1.0)\n",
      "Requirement already satisfied: nvidia-cusolver-cu12 in ./miniconda/lib/python3.10/site-packages (from jax[cuda12_pip]) (11.4.5.107)\n",
      "Requirement already satisfied: nvidia-cudnn-cu12 in ./miniconda/lib/python3.10/site-packages (from jax[cuda12_pip]) (8.9.1.23)\n",
      "Requirement already satisfied: nvidia-cuda-runtime-cu12 in ./miniconda/lib/python3.10/site-packages (from jax[cuda12_pip]) (12.1.105)\n",
      "Requirement already satisfied: nvidia-cuda-nvcc-cu12 in ./miniconda/lib/python3.10/site-packages (from jax[cuda12_pip]) (12.1.105)\n",
      "Requirement already satisfied: nvidia-cuda-cupti-cu12 in ./miniconda/lib/python3.10/site-packages (from jax[cuda12_pip]) (12.1.105)\n",
      "Requirement already satisfied: nvidia-cublas-cu12 in ./miniconda/lib/python3.10/site-packages (from jax[cuda12_pip]) (12.1.3.1)\n",
      "Requirement already satisfied: jaxlib==0.4.10+cuda12.cudnn88 in ./miniconda/lib/python3.10/site-packages (from jax[cuda12_pip]) (0.4.10+cuda12.cudnn88)\n",
      "Requirement already satisfied: nvidia-cusparse-cu12 in ./miniconda/lib/python3.10/site-packages (from jax[cuda12_pip]) (12.1.0.106)\n",
      "Requirement already satisfied: nvidia-cufft-cu12 in ./miniconda/lib/python3.10/site-packages (from jax[cuda12_pip]) (11.0.2.54)\n",
      "Requirement already satisfied: nvidia-nvjitlink-cu12 in ./miniconda/lib/python3.10/site-packages (from nvidia-cusolver-cu12->jax[cuda12_pip]) (12.1.105)\n",
      "\u001b[33mWARNING: Running pip as the 'root' user can result in broken permissions and conflicting behaviour with the system package manager. It is recommended to use a virtual environment instead: https://pip.pypa.io/warnings/venv\u001b[0m\u001b[33m\n",
      "\u001b[0mNote: you may need to restart the kernel to use updated packages.\n",
      "Requirement already satisfied: matplotlib in ./miniconda/lib/python3.10/site-packages (3.7.1)\n",
      "Requirement already satisfied: contourpy>=1.0.1 in ./miniconda/lib/python3.10/site-packages (from matplotlib) (1.0.7)\n",
      "Requirement already satisfied: pillow>=6.2.0 in ./miniconda/lib/python3.10/site-packages (from matplotlib) (9.5.0)\n",
      "Requirement already satisfied: packaging>=20.0 in ./miniconda/lib/python3.10/site-packages (from matplotlib) (23.0)\n",
      "Requirement already satisfied: python-dateutil>=2.7 in ./miniconda/lib/python3.10/site-packages (from matplotlib) (2.8.2)\n",
      "Requirement already satisfied: fonttools>=4.22.0 in ./miniconda/lib/python3.10/site-packages (from matplotlib) (4.39.4)\n",
      "Requirement already satisfied: numpy>=1.20 in ./miniconda/lib/python3.10/site-packages (from matplotlib) (1.24.3)\n",
      "Requirement already satisfied: pyparsing>=2.3.1 in ./miniconda/lib/python3.10/site-packages (from matplotlib) (3.0.9)\n",
      "Requirement already satisfied: kiwisolver>=1.0.1 in ./miniconda/lib/python3.10/site-packages (from matplotlib) (1.4.4)\n",
      "Requirement already satisfied: cycler>=0.10 in ./miniconda/lib/python3.10/site-packages (from matplotlib) (0.11.0)\n",
      "Requirement already satisfied: six>=1.5 in ./miniconda/lib/python3.10/site-packages (from python-dateutil>=2.7->matplotlib) (1.16.0)\n",
      "\u001b[33mWARNING: Running pip as the 'root' user can result in broken permissions and conflicting behaviour with the system package manager. It is recommended to use a virtual environment instead: https://pip.pypa.io/warnings/venv\u001b[0m\u001b[33m\n",
      "\u001b[0mNote: you may need to restart the kernel to use updated packages.\n",
      "Requirement already satisfied: IPython in ./miniconda/lib/python3.10/site-packages (8.13.2)\n",
      "Requirement already satisfied: matplotlib-inline in ./miniconda/lib/python3.10/site-packages (from IPython) (0.1.6)\n",
      "Requirement already satisfied: decorator in ./miniconda/lib/python3.10/site-packages (from IPython) (5.1.1)\n",
      "Requirement already satisfied: traitlets>=5 in ./miniconda/lib/python3.10/site-packages (from IPython) (5.9.0)\n",
      "Requirement already satisfied: pygments>=2.4.0 in ./miniconda/lib/python3.10/site-packages (from IPython) (2.15.1)\n",
      "Requirement already satisfied: backcall in ./miniconda/lib/python3.10/site-packages (from IPython) (0.2.0)\n",
      "Requirement already satisfied: stack-data in ./miniconda/lib/python3.10/site-packages (from IPython) (0.6.2)\n",
      "Requirement already satisfied: pexpect>4.3 in ./miniconda/lib/python3.10/site-packages (from IPython) (4.8.0)\n",
      "Requirement already satisfied: pickleshare in ./miniconda/lib/python3.10/site-packages (from IPython) (0.7.5)\n",
      "Requirement already satisfied: jedi>=0.16 in ./miniconda/lib/python3.10/site-packages (from IPython) (0.18.2)\n",
      "Requirement already satisfied: prompt-toolkit!=3.0.37,<3.1.0,>=3.0.30 in ./miniconda/lib/python3.10/site-packages (from IPython) (3.0.38)\n",
      "Requirement already satisfied: parso<0.9.0,>=0.8.0 in ./miniconda/lib/python3.10/site-packages (from jedi>=0.16->IPython) (0.8.3)\n",
      "Requirement already satisfied: ptyprocess>=0.5 in ./miniconda/lib/python3.10/site-packages (from pexpect>4.3->IPython) (0.7.0)\n",
      "Requirement already satisfied: wcwidth in ./miniconda/lib/python3.10/site-packages (from prompt-toolkit!=3.0.37,<3.1.0,>=3.0.30->IPython) (0.2.6)\n",
      "Requirement already satisfied: asttokens>=2.1.0 in ./miniconda/lib/python3.10/site-packages (from stack-data->IPython) (2.2.1)\n",
      "Requirement already satisfied: executing>=1.2.0 in ./miniconda/lib/python3.10/site-packages (from stack-data->IPython) (1.2.0)\n",
      "Requirement already satisfied: pure-eval in ./miniconda/lib/python3.10/site-packages (from stack-data->IPython) (0.2.2)\n",
      "Requirement already satisfied: six in ./miniconda/lib/python3.10/site-packages (from asttokens>=2.1.0->stack-data->IPython) (1.16.0)\n",
      "\u001b[33mWARNING: Running pip as the 'root' user can result in broken permissions and conflicting behaviour with the system package manager. It is recommended to use a virtual environment instead: https://pip.pypa.io/warnings/venv\u001b[0m\u001b[33m\n",
      "\u001b[0mNote: you may need to restart the kernel to use updated packages.\n",
      "Requirement already satisfied: flax in ./miniconda/lib/python3.10/site-packages (0.6.10)\n",
      "Requirement already satisfied: rich>=11.1 in ./miniconda/lib/python3.10/site-packages (from flax) (13.3.5)\n",
      "Requirement already satisfied: typing-extensions>=4.1.1 in ./miniconda/lib/python3.10/site-packages (from flax) (4.5.0)\n",
      "Requirement already satisfied: numpy>=1.12 in ./miniconda/lib/python3.10/site-packages (from flax) (1.24.3)\n",
      "Requirement already satisfied: jax>=0.4.2 in ./miniconda/lib/python3.10/site-packages (from flax) (0.4.10)\n",
      "Requirement already satisfied: optax in ./miniconda/lib/python3.10/site-packages (from flax) (0.1.5)\n",
      "Requirement already satisfied: PyYAML>=5.4.1 in ./miniconda/lib/python3.10/site-packages (from flax) (6.0)\n",
      "Requirement already satisfied: orbax-checkpoint in ./miniconda/lib/python3.10/site-packages (from flax) (0.2.3)\n",
      "Requirement already satisfied: tensorstore in ./miniconda/lib/python3.10/site-packages (from flax) (0.1.36)\n",
      "Requirement already satisfied: msgpack in ./miniconda/lib/python3.10/site-packages (from flax) (1.0.5)\n",
      "Requirement already satisfied: scipy>=1.7 in ./miniconda/lib/python3.10/site-packages (from jax>=0.4.2->flax) (1.10.1)\n",
      "Requirement already satisfied: opt-einsum in ./miniconda/lib/python3.10/site-packages (from jax>=0.4.2->flax) (3.3.0)\n",
      "Requirement already satisfied: ml-dtypes>=0.1.0 in ./miniconda/lib/python3.10/site-packages (from jax>=0.4.2->flax) (0.1.0)\n",
      "Requirement already satisfied: pygments<3.0.0,>=2.13.0 in ./miniconda/lib/python3.10/site-packages (from rich>=11.1->flax) (2.15.1)\n",
      "Requirement already satisfied: markdown-it-py<3.0.0,>=2.2.0 in ./miniconda/lib/python3.10/site-packages (from rich>=11.1->flax) (2.2.0)\n",
      "Requirement already satisfied: absl-py>=0.7.1 in ./miniconda/lib/python3.10/site-packages (from optax->flax) (1.4.0)\n",
      "Requirement already satisfied: jaxlib>=0.1.37 in ./miniconda/lib/python3.10/site-packages (from optax->flax) (0.4.10+cuda12.cudnn88)\n",
      "Requirement already satisfied: chex>=0.1.5 in ./miniconda/lib/python3.10/site-packages (from optax->flax) (0.1.7)\n",
      "Requirement already satisfied: nest_asyncio in ./miniconda/lib/python3.10/site-packages (from orbax-checkpoint->flax) (1.5.6)\n",
      "Requirement already satisfied: importlib_resources in ./miniconda/lib/python3.10/site-packages (from orbax-checkpoint->flax) (5.12.0)\n",
      "Requirement already satisfied: cached_property in ./miniconda/lib/python3.10/site-packages (from orbax-checkpoint->flax) (1.5.2)\n",
      "Requirement already satisfied: etils in ./miniconda/lib/python3.10/site-packages (from orbax-checkpoint->flax) (1.3.0)\n",
      "Requirement already satisfied: dm-tree>=0.1.5 in ./miniconda/lib/python3.10/site-packages (from chex>=0.1.5->optax->flax) (0.1.8)\n",
      "Requirement already satisfied: toolz>=0.9.0 in ./miniconda/lib/python3.10/site-packages (from chex>=0.1.5->optax->flax) (0.12.0)\n",
      "Requirement already satisfied: mdurl~=0.1 in ./miniconda/lib/python3.10/site-packages (from markdown-it-py<3.0.0,>=2.2.0->rich>=11.1->flax) (0.1.2)\n",
      "\u001b[33mWARNING: Running pip as the 'root' user can result in broken permissions and conflicting behaviour with the system package manager. It is recommended to use a virtual environment instead: https://pip.pypa.io/warnings/venv\u001b[0m\u001b[33m\n",
      "\u001b[0mNote: you may need to restart the kernel to use updated packages.\n"
     ]
    }
   ],
   "source": [
    "# @markdown ## ⚠️ PLEASE NOTE:\n",
    "# @markdown This colab runs best using a GPU runtime.  From the Colab menu, choose Runtime > Change Runtime Type, then select **'GPU'** in the dropdown.\n",
    "\n",
    "%pip install --upgrade \"jax[cuda12_pip]\" -f https://storage.googleapis.com/jax-releases/jax_cuda_releases.html\n",
    "%pip install matplotlib\n",
    "%pip install IPython\n",
    "%pip install flax\n",
    "\n",
    "import functools\n",
    "import os\n",
    "from datetime import datetime\n",
    "\n",
    "import jax\n",
    "import matplotlib.pyplot as plt\n",
    "from IPython.display import HTML, clear_output\n",
    "from jax import numpy as jp\n",
    "\n",
    "try:\n",
    "    import brax\n",
    "except ImportError:\n",
    "    %pip install git+https://github.com/google/brax.git@main\n",
    "    import brax\n",
    "\n",
    "import flax\n",
    "from brax import envs\n",
    "from brax import geometry as braxgeo\n",
    "from brax.io import html, json, model\n",
    "from brax.training.agents.ppo import train as ppo\n",
    "from brax.training.agents.sac import train as sac"
   ]
  },
  {
   "cell_type": "code",
   "execution_count": 12,
   "metadata": {},
   "outputs": [
    {
     "name": "stdout",
     "output_type": "stream",
     "text": [
      "/root\n"
     ]
    }
   ],
   "source": [
    "import sys\n",
    "# print current working dir\n",
    "print(sys.path)"
   ]
  },
  {
   "cell_type": "code",
   "execution_count": 11,
   "metadata": {
    "tags": []
   },
   "outputs": [
    {
     "ename": "ModuleNotFoundError",
     "evalue": "No module named 'Rewards'",
     "output_type": "error",
     "traceback": [
      "\u001b[0;31m---------------------------------------------------------------------------\u001b[0m",
      "\u001b[0;31mModuleNotFoundError\u001b[0m                       Traceback (most recent call last)",
      "Cell \u001b[0;32mIn[11], line 1\u001b[0m\n\u001b[0;32m----> 1\u001b[0m \u001b[39mfrom\u001b[39;00m \u001b[39mRewards\u001b[39;00m \u001b[39mimport\u001b[39;00m reward_flavors\n",
      "\u001b[0;31mModuleNotFoundError\u001b[0m: No module named 'Rewards'"
     ]
    }
   ],
   "source": [
    "from rewards import reward_flavors"
   ]
  },
  {
   "cell_type": "code",
   "execution_count": 3,
   "metadata": {
    "tags": []
   },
   "outputs": [],
   "source": [
    "env = envs.create(env_name=\"ant\", backend=\"positional\")"
   ]
  },
  {
   "cell_type": "code",
   "execution_count": null,
   "metadata": {
    "tags": []
   },
   "outputs": [],
   "source": [
    "state = jax.jit(env.reset)(rng=jax.random.PRNGKey(seed=0))"
   ]
  },
  {
   "cell_type": "code",
   "execution_count": null,
   "metadata": {
    "tags": []
   },
   "outputs": [],
   "source": [
    "max_y = 8000\n",
    "min_y = 0\n",
    "\n",
    "xdata, ydata = [], []\n",
    "times = [datetime.now()]\n",
    "\n",
    "\n",
    "def progress(num_steps, metrics):\n",
    "    times.append(datetime.now())\n",
    "    xdata.append(num_steps)\n",
    "    ydata.append(metrics[\"eval/episode_reward\"])\n",
    "    clear_output(wait=True)\n",
    "    plt.xlim([0, 100_000_000])\n",
    "    plt.ylim([min_y, max_y])\n",
    "    plt.xlabel(\"# environment steps\")\n",
    "    plt.ylabel(\"reward per episode\")\n",
    "    plt.plot(xdata, ydata)\n",
    "    plt.show()\n",
    "\n",
    "\n",
    "make_inference_fn, params, _ = ppo.train(\n",
    "    environment=env,\n",
    "    progress_fn=progress,\n",
    "    num_timesteps=100_000_000,\n",
    "    num_evals=10,\n",
    "    reward_scaling=10,\n",
    "    episode_length=1000,\n",
    "    normalize_observations=True,\n",
    "    action_repeat=1,\n",
    "    unroll_length=5,\n",
    "    num_minibatches=32,\n",
    "    num_updates_per_batch=4,\n",
    "    discounting=0.97,\n",
    "    learning_rate=3e-4,\n",
    "    entropy_cost=1e-2,\n",
    "    num_envs=4096,\n",
    "    batch_size=2048,\n",
    "    seed=1,\n",
    ")\n",
    "\n",
    "\n",
    "print(f\"time to jit: {times[1] - times[0]}\")\n",
    "print(f\"time to train: {times[-1] - times[1]}\")"
   ]
  },
  {
   "cell_type": "code",
   "execution_count": null,
   "metadata": {
    "tags": []
   },
   "outputs": [],
   "source": [
    "model.save_params(\"/tmp/params\", params)\n",
    "params = model.load_params(\"/tmp/params\")\n",
    "inference_fn = make_inference_fn(params)"
   ]
  },
  {
   "cell_type": "code",
   "execution_count": null,
   "metadata": {
    "collapsed": true,
    "jupyter": {
     "outputs_hidden": true
    },
    "notebookRunGroups": {
     "groupValue": ""
    },
    "tags": []
   },
   "outputs": [],
   "source": [
    "# @title Visualizing a trajectory of the learned inference function\n",
    "\n",
    "# create an env with auto-reset\n",
    "env = envs.create(env_name=\"ant\", backend=\"positional\")\n",
    "\n",
    "jit_env_reset = jax.jit(env.reset)\n",
    "jit_env_step = jax.jit(env.step)\n",
    "jit_inference_fn = jax.jit(inference_fn)\n",
    "\n",
    "rollout = []\n",
    "rng = jax.random.PRNGKey(seed=1)\n",
    "state = jit_env_reset(rng=rng)\n",
    "for _ in range(1000):\n",
    "    rollout.append(state.pipeline_state)\n",
    "    act_rng, rng = jax.random.split(rng)\n",
    "    act, _ = jit_inference_fn(state.obs, act_rng)\n",
    "    state = jit_env_step(state, act)\n",
    "\n",
    "HTML(html.render(env.sys.replace(dt=env.dt), rollout))"
   ]
  },
  {
   "attachments": {},
   "cell_type": "markdown",
   "metadata": {},
   "source": [
    "# Collecting Rollouts to Rank"
   ]
  },
  {
   "cell_type": "code",
   "execution_count": null,
   "metadata": {},
   "outputs": [],
   "source": [
    "env = envs.create(env_name=\"ant\", backend=\"positional\")\n",
    "\n",
    "jit_vec_env_reset = jax.jit(vec_env.reset)\n",
    "jit_vec_env_step = jax.jit(vec_env.step)\n",
    "\n",
    "rollouts = []\n",
    "rng = jax.random.PRNGKey(seed=1)\n",
    "states = jit_env_reset(rng=rng)\n",
    "\n",
    "num_envs = 4096\n",
    "num_rollouts = 16384\n",
    "trajectory_length = 1000\n",
    "num_vec_rollout_passes = num_rollouts // num_envs"
   ]
  },
  {
   "cell_type": "code",
   "execution_count": null,
   "metadata": {},
   "outputs": [],
   "source": [
    "vmapped_reset = jax.vmap(jit_env_reset)\n",
    "vmapped_step = jax.vmap(jit_env_step)\n",
    "vmapped_inference_fn = jax.vmap(jit_inference_fn)"
   ]
  },
  {
   "cell_type": "code",
   "execution_count": null,
   "metadata": {},
   "outputs": [],
   "source": [
    "# Initialize empty arrays to concatenate to\n",
    "rollout_states = jp.zeros((0 , trajectory_length + 1, env.))\n",
    "rollout_actions = jp.zeros((0 , trajectory_length, 8))"
   ]
  },
  {
   "cell_type": "code",
   "execution_count": null,
   "metadata": {},
   "outputs": [],
   "source": []
  },
  {
   "cell_type": "code",
   "execution_count": null,
   "metadata": {},
   "outputs": [],
   "source": [
    "def collect_new_rollouts(\n",
    "    parallel_envs: int,\n",
    "    rng: jax.random.KeyArray,\n",
    "    trajectory_length: int,\n",
    "):\n",
    "    rngs = jax.random.split(rng, parallel_envs)\n",
    "    states = vmapped_reset(rng=rngs)\n",
    "    rollout_states = jp.zeros((parallel_envs, trajectory_length, states.pipeline_state.shape[-1]))\n",
    "    rollout_acts = jp.zeros((parallel_envs, trajectory_length, states.act.shape[-1]))\n",
    "    for _ in range(trajectory_length):\n",
    "        rollouts.append(states.pipeline_state)\n",
    "        act_rngs, rngs = jax.random.split(rngs)\n",
    "        acts, _ = vmapped_inference_fn(states.obs, act_rngs)\n",
    "        states = vmapped_step(states, acts)\n",
    "    return rollout_states, rollout_acts"
   ]
  },
  {
   "cell_type": "code",
   "execution_count": null,
   "metadata": {},
   "outputs": [],
   "source": [
    "for _ in range(num_vec_rollout_passes):\n",
    "    for _ in range(trajectory_length):\n",
    "        rollouts.append(states.pipeline_state)\n",
    "        act_rng, rng = jax.random.split(rng)\n",
    "        acts, _ = vmapped_inference_fn(states.obs, act_rng)\n",
    "        states = vmapped_step(states, acts)"
   ]
  }
 ],
 "metadata": {
  "kernelspec": {
   "display_name": "Python 3 (ipykernel)",
   "language": "python",
   "name": "python3"
  },
  "language_info": {
   "codemirror_mode": {
    "name": "ipython",
    "version": 3
   },
   "file_extension": ".py",
   "mimetype": "text/x-python",
   "name": "python",
   "nbconvert_exporter": "python",
   "pygments_lexer": "ipython3",
   "version": "3.10.10"
  }
 },
 "nbformat": 4,
 "nbformat_minor": 4
}
