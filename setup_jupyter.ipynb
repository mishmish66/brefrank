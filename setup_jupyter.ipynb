{
 "cells": [
  {
   "cell_type": "code",
   "execution_count": 11,
   "id": "15b2d93b-da21-4919-8f1d-2925a8942444",
   "metadata": {
    "tags": []
   },
   "outputs": [
    {
     "name": "stderr",
     "output_type": "stream",
     "text": [
      "UsageError: Line magic function `%curl` not found.\n"
     ]
    }
   ],
   "source": [
    "!curl -fsSL https://deb.nodesource.com/setup_20.x | sudo -E bash - &&\\\n",
    "apt-get install -y nodejs"
   ]
  },
  {
   "cell_type": "code",
   "execution_count": 8,
   "id": "bf9de95b-869e-446c-9d64-b6f6a0306df1",
   "metadata": {
    "collapsed": true,
    "jupyter": {
     "outputs_hidden": true
    },
    "tags": []
   },
   "outputs": [
    {
     "name": "stdout",
     "output_type": "stream",
     "text": [
      "Collecting jupyterlab-git\n",
      "  Using cached jupyterlab_git-0.41.0-py3-none-any.whl (1.3 MB)\n",
      "Collecting nbdime~=3.1\n",
      "  Using cached nbdime-3.2.1-py2.py3-none-any.whl (5.3 MB)\n",
      "Requirement already satisfied: traitlets~=5.0 in /usr/local/lib/python3.10/dist-packages (from jupyterlab-git) (5.9.0)\n",
      "Requirement already satisfied: pexpect in /usr/local/lib/python3.10/dist-packages (from jupyterlab-git) (4.8.0)\n",
      "Requirement already satisfied: jupyter-server<3,>=1.21.0 in /usr/local/lib/python3.10/dist-packages (from jupyterlab-git) (2.5.0)\n",
      "Requirement already satisfied: packaging in /usr/local/lib/python3.10/dist-packages (from jupyterlab-git) (23.1)\n",
      "Requirement already satisfied: nbformat in /usr/local/lib/python3.10/dist-packages (from jupyterlab-git) (5.8.0)\n",
      "Requirement already satisfied: websocket-client in /usr/local/lib/python3.10/dist-packages (from jupyter-server<3,>=1.21.0->jupyterlab-git) (1.5.1)\n",
      "Requirement already satisfied: nbconvert>=6.4.4 in /usr/local/lib/python3.10/dist-packages (from jupyter-server<3,>=1.21.0->jupyterlab-git) (7.4.0)\n",
      "Requirement already satisfied: tornado>=6.2.0 in /usr/local/lib/python3.10/dist-packages (from jupyter-server<3,>=1.21.0->jupyterlab-git) (6.3.1)\n",
      "Requirement already satisfied: send2trash in /usr/local/lib/python3.10/dist-packages (from jupyter-server<3,>=1.21.0->jupyterlab-git) (1.8.2)\n",
      "Requirement already satisfied: prometheus-client in /usr/local/lib/python3.10/dist-packages (from jupyter-server<3,>=1.21.0->jupyterlab-git) (0.16.0)\n",
      "Requirement already satisfied: jupyter-server-terminals in /usr/local/lib/python3.10/dist-packages (from jupyter-server<3,>=1.21.0->jupyterlab-git) (0.4.4)\n",
      "Requirement already satisfied: jupyter-core!=5.0.*,>=4.12 in /usr/local/lib/python3.10/dist-packages (from jupyter-server<3,>=1.21.0->jupyterlab-git) (5.3.0)\n",
      "Requirement already satisfied: jupyter-client>=7.4.4 in /usr/local/lib/python3.10/dist-packages (from jupyter-server<3,>=1.21.0->jupyterlab-git) (8.2.0)\n",
      "Requirement already satisfied: terminado>=0.8.3 in /usr/local/lib/python3.10/dist-packages (from jupyter-server<3,>=1.21.0->jupyterlab-git) (0.17.1)\n",
      "Requirement already satisfied: jupyter-events>=0.4.0 in /usr/local/lib/python3.10/dist-packages (from jupyter-server<3,>=1.21.0->jupyterlab-git) (0.6.3)\n",
      "Requirement already satisfied: pyzmq>=24 in /usr/local/lib/python3.10/dist-packages (from jupyter-server<3,>=1.21.0->jupyterlab-git) (25.0.2)\n",
      "Requirement already satisfied: argon2-cffi in /usr/local/lib/python3.10/dist-packages (from jupyter-server<3,>=1.21.0->jupyterlab-git) (21.3.0)\n",
      "Requirement already satisfied: jinja2 in /usr/local/lib/python3.10/dist-packages (from jupyter-server<3,>=1.21.0->jupyterlab-git) (3.1.2)\n",
      "Requirement already satisfied: anyio>=3.1.0 in /usr/local/lib/python3.10/dist-packages (from jupyter-server<3,>=1.21.0->jupyterlab-git) (3.6.2)\n",
      "Collecting jupyter-server-mathjax>=0.2.2\n",
      "  Using cached jupyter_server_mathjax-0.2.6-py3-none-any.whl (3.1 MB)\n",
      "Requirement already satisfied: pygments in /usr/local/lib/python3.10/dist-packages (from nbdime~=3.1->jupyterlab-git) (2.15.1)\n",
      "Collecting GitPython!=2.1.4,!=2.1.5,!=2.1.6\n",
      "  Using cached GitPython-3.1.31-py3-none-any.whl (184 kB)\n",
      "Requirement already satisfied: requests in /usr/local/lib/python3.10/dist-packages (from nbdime~=3.1->jupyterlab-git) (2.30.0)\n",
      "Collecting colorama\n",
      "  Using cached colorama-0.4.6-py2.py3-none-any.whl (25 kB)\n",
      "Requirement already satisfied: jsonschema>=2.6 in /usr/local/lib/python3.10/dist-packages (from nbformat->jupyterlab-git) (4.17.3)\n",
      "Requirement already satisfied: fastjsonschema in /usr/local/lib/python3.10/dist-packages (from nbformat->jupyterlab-git) (2.16.3)\n",
      "Requirement already satisfied: ptyprocess>=0.5 in /usr/local/lib/python3.10/dist-packages (from pexpect->jupyterlab-git) (0.7.0)\n",
      "Requirement already satisfied: idna>=2.8 in /usr/local/lib/python3.10/dist-packages (from anyio>=3.1.0->jupyter-server<3,>=1.21.0->jupyterlab-git) (3.4)\n",
      "Requirement already satisfied: sniffio>=1.1 in /usr/local/lib/python3.10/dist-packages (from anyio>=3.1.0->jupyter-server<3,>=1.21.0->jupyterlab-git) (1.3.0)\n",
      "Collecting gitdb<5,>=4.0.1\n",
      "  Using cached gitdb-4.0.10-py3-none-any.whl (62 kB)\n",
      "Requirement already satisfied: MarkupSafe>=2.0 in /usr/local/lib/python3.10/dist-packages (from jinja2->jupyter-server<3,>=1.21.0->jupyterlab-git) (2.1.2)\n",
      "Requirement already satisfied: pyrsistent!=0.17.0,!=0.17.1,!=0.17.2,>=0.14.0 in /usr/local/lib/python3.10/dist-packages (from jsonschema>=2.6->nbformat->jupyterlab-git) (0.19.3)\n",
      "Requirement already satisfied: attrs>=17.4.0 in /usr/local/lib/python3.10/dist-packages (from jsonschema>=2.6->nbformat->jupyterlab-git) (23.1.0)\n",
      "Requirement already satisfied: python-dateutil>=2.8.2 in /usr/local/lib/python3.10/dist-packages (from jupyter-client>=7.4.4->jupyter-server<3,>=1.21.0->jupyterlab-git) (2.8.2)\n",
      "Requirement already satisfied: platformdirs>=2.5 in /usr/local/lib/python3.10/dist-packages (from jupyter-core!=5.0.*,>=4.12->jupyter-server<3,>=1.21.0->jupyterlab-git) (3.5.1)\n",
      "Requirement already satisfied: rfc3986-validator>=0.1.1 in /usr/local/lib/python3.10/dist-packages (from jupyter-events>=0.4.0->jupyter-server<3,>=1.21.0->jupyterlab-git) (0.1.1)\n",
      "Requirement already satisfied: python-json-logger>=2.0.4 in /usr/local/lib/python3.10/dist-packages (from jupyter-events>=0.4.0->jupyter-server<3,>=1.21.0->jupyterlab-git) (2.0.7)\n",
      "Requirement already satisfied: rfc3339-validator in /usr/local/lib/python3.10/dist-packages (from jupyter-events>=0.4.0->jupyter-server<3,>=1.21.0->jupyterlab-git) (0.1.4)\n",
      "Requirement already satisfied: pyyaml>=5.3 in /usr/local/lib/python3.10/dist-packages (from jupyter-events>=0.4.0->jupyter-server<3,>=1.21.0->jupyterlab-git) (6.0)\n",
      "Requirement already satisfied: defusedxml in /usr/local/lib/python3.10/dist-packages (from nbconvert>=6.4.4->jupyter-server<3,>=1.21.0->jupyterlab-git) (0.7.1)\n",
      "Requirement already satisfied: mistune<3,>=2.0.3 in /usr/local/lib/python3.10/dist-packages (from nbconvert>=6.4.4->jupyter-server<3,>=1.21.0->jupyterlab-git) (2.0.5)\n",
      "Requirement already satisfied: bleach in /usr/local/lib/python3.10/dist-packages (from nbconvert>=6.4.4->jupyter-server<3,>=1.21.0->jupyterlab-git) (6.0.0)\n",
      "Requirement already satisfied: tinycss2 in /usr/local/lib/python3.10/dist-packages (from nbconvert>=6.4.4->jupyter-server<3,>=1.21.0->jupyterlab-git) (1.2.1)\n",
      "Requirement already satisfied: pandocfilters>=1.4.1 in /usr/local/lib/python3.10/dist-packages (from nbconvert>=6.4.4->jupyter-server<3,>=1.21.0->jupyterlab-git) (1.5.0)\n",
      "Requirement already satisfied: jupyterlab-pygments in /usr/local/lib/python3.10/dist-packages (from nbconvert>=6.4.4->jupyter-server<3,>=1.21.0->jupyterlab-git) (0.2.2)\n",
      "Requirement already satisfied: nbclient>=0.5.0 in /usr/local/lib/python3.10/dist-packages (from nbconvert>=6.4.4->jupyter-server<3,>=1.21.0->jupyterlab-git) (0.7.4)\n",
      "Requirement already satisfied: beautifulsoup4 in /usr/local/lib/python3.10/dist-packages (from nbconvert>=6.4.4->jupyter-server<3,>=1.21.0->jupyterlab-git) (4.12.2)\n",
      "Requirement already satisfied: argon2-cffi-bindings in /usr/local/lib/python3.10/dist-packages (from argon2-cffi->jupyter-server<3,>=1.21.0->jupyterlab-git) (21.2.0)\n",
      "Requirement already satisfied: charset-normalizer<4,>=2 in /usr/local/lib/python3.10/dist-packages (from requests->nbdime~=3.1->jupyterlab-git) (3.1.0)\n",
      "Requirement already satisfied: urllib3<3,>=1.21.1 in /usr/local/lib/python3.10/dist-packages (from requests->nbdime~=3.1->jupyterlab-git) (2.0.2)\n",
      "Requirement already satisfied: certifi>=2017.4.17 in /usr/local/lib/python3.10/dist-packages (from requests->nbdime~=3.1->jupyterlab-git) (2023.5.7)\n",
      "Collecting smmap<6,>=3.0.1\n",
      "  Using cached smmap-5.0.0-py3-none-any.whl (24 kB)\n",
      "Requirement already satisfied: fqdn in /usr/local/lib/python3.10/dist-packages (from jsonschema>=2.6->nbformat->jupyterlab-git) (1.5.1)\n",
      "Requirement already satisfied: jsonpointer>1.13 in /usr/local/lib/python3.10/dist-packages (from jsonschema>=2.6->nbformat->jupyterlab-git) (2.3)\n",
      "Requirement already satisfied: uri-template in /usr/local/lib/python3.10/dist-packages (from jsonschema>=2.6->nbformat->jupyterlab-git) (1.2.0)\n",
      "Requirement already satisfied: isoduration in /usr/local/lib/python3.10/dist-packages (from jsonschema>=2.6->nbformat->jupyterlab-git) (20.11.0)\n",
      "Requirement already satisfied: webcolors>=1.11 in /usr/local/lib/python3.10/dist-packages (from jsonschema>=2.6->nbformat->jupyterlab-git) (1.13)\n",
      "Requirement already satisfied: six>=1.5 in /usr/lib/python3/dist-packages (from python-dateutil>=2.8.2->jupyter-client>=7.4.4->jupyter-server<3,>=1.21.0->jupyterlab-git) (1.16.0)\n",
      "Requirement already satisfied: cffi>=1.0.1 in /usr/local/lib/python3.10/dist-packages (from argon2-cffi-bindings->argon2-cffi->jupyter-server<3,>=1.21.0->jupyterlab-git) (1.15.1)\n",
      "Requirement already satisfied: soupsieve>1.2 in /usr/local/lib/python3.10/dist-packages (from beautifulsoup4->nbconvert>=6.4.4->jupyter-server<3,>=1.21.0->jupyterlab-git) (2.4.1)\n",
      "Requirement already satisfied: webencodings in /usr/local/lib/python3.10/dist-packages (from bleach->nbconvert>=6.4.4->jupyter-server<3,>=1.21.0->jupyterlab-git) (0.5.1)\n",
      "Requirement already satisfied: pycparser in /usr/local/lib/python3.10/dist-packages (from cffi>=1.0.1->argon2-cffi-bindings->argon2-cffi->jupyter-server<3,>=1.21.0->jupyterlab-git) (2.21)\n",
      "Requirement already satisfied: arrow>=0.15.0 in /usr/local/lib/python3.10/dist-packages (from isoduration->jsonschema>=2.6->nbformat->jupyterlab-git) (1.2.3)\n",
      "Installing collected packages: smmap, colorama, gitdb, GitPython, jupyter-server-mathjax, nbdime, jupyterlab-git\n",
      "Successfully installed GitPython-3.1.31 colorama-0.4.6 gitdb-4.0.10 jupyter-server-mathjax-0.2.6 jupyterlab-git-0.41.0 nbdime-3.2.1 smmap-5.0.0\n",
      "\u001b[33mWARNING: Running pip as the 'root' user can result in broken permissions and conflicting behaviour with the system package manager. It is recommended to use a virtual environment instead: https://pip.pypa.io/warnings/venv\u001b[0m\u001b[33m\n",
      "\u001b[0m"
     ]
    }
   ],
   "source": [
    "%pip install jupyterlab-git"
   ]
  },
  {
   "cell_type": "code",
   "execution_count": 12,
   "id": "b3b6f8d5-8e57-4ef4-a7b2-0b6b6a85369c",
   "metadata": {
    "tags": []
   },
   "outputs": [
    {
     "name": "stdout",
     "output_type": "stream",
     "text": [
      "Requirement already satisfied: jupyterlab_code_formatter in /usr/local/lib/python3.10/dist-packages (2.0.0)\n",
      "Requirement already satisfied: packaging in /usr/local/lib/python3.10/dist-packages (from jupyterlab_code_formatter) (23.1)\n",
      "Requirement already satisfied: jupyter-server<3,>=1.21 in /usr/local/lib/python3.10/dist-packages (from jupyterlab_code_formatter) (2.5.0)\n",
      "Requirement already satisfied: argon2-cffi in /usr/local/lib/python3.10/dist-packages (from jupyter-server<3,>=1.21->jupyterlab_code_formatter) (21.3.0)\n",
      "Requirement already satisfied: traitlets>=5.6.0 in /usr/local/lib/python3.10/dist-packages (from jupyter-server<3,>=1.21->jupyterlab_code_formatter) (5.9.0)\n",
      "Requirement already satisfied: nbconvert>=6.4.4 in /usr/local/lib/python3.10/dist-packages (from jupyter-server<3,>=1.21->jupyterlab_code_formatter) (7.4.0)\n",
      "Requirement already satisfied: prometheus-client in /usr/local/lib/python3.10/dist-packages (from jupyter-server<3,>=1.21->jupyterlab_code_formatter) (0.16.0)\n",
      "Requirement already satisfied: pyzmq>=24 in /usr/local/lib/python3.10/dist-packages (from jupyter-server<3,>=1.21->jupyterlab_code_formatter) (25.0.2)\n",
      "Requirement already satisfied: websocket-client in /usr/local/lib/python3.10/dist-packages (from jupyter-server<3,>=1.21->jupyterlab_code_formatter) (1.5.1)\n",
      "Requirement already satisfied: tornado>=6.2.0 in /usr/local/lib/python3.10/dist-packages (from jupyter-server<3,>=1.21->jupyterlab_code_formatter) (6.3.1)\n",
      "Requirement already satisfied: jupyter-core!=5.0.*,>=4.12 in /usr/local/lib/python3.10/dist-packages (from jupyter-server<3,>=1.21->jupyterlab_code_formatter) (5.3.0)\n",
      "Requirement already satisfied: jupyter-server-terminals in /usr/local/lib/python3.10/dist-packages (from jupyter-server<3,>=1.21->jupyterlab_code_formatter) (0.4.4)\n",
      "Requirement already satisfied: terminado>=0.8.3 in /usr/local/lib/python3.10/dist-packages (from jupyter-server<3,>=1.21->jupyterlab_code_formatter) (0.17.1)\n",
      "Requirement already satisfied: jinja2 in /usr/local/lib/python3.10/dist-packages (from jupyter-server<3,>=1.21->jupyterlab_code_formatter) (3.1.2)\n",
      "Requirement already satisfied: jupyter-events>=0.4.0 in /usr/local/lib/python3.10/dist-packages (from jupyter-server<3,>=1.21->jupyterlab_code_formatter) (0.6.3)\n",
      "Requirement already satisfied: send2trash in /usr/local/lib/python3.10/dist-packages (from jupyter-server<3,>=1.21->jupyterlab_code_formatter) (1.8.2)\n",
      "Requirement already satisfied: nbformat>=5.3.0 in /usr/local/lib/python3.10/dist-packages (from jupyter-server<3,>=1.21->jupyterlab_code_formatter) (5.8.0)\n",
      "Requirement already satisfied: anyio>=3.1.0 in /usr/local/lib/python3.10/dist-packages (from jupyter-server<3,>=1.21->jupyterlab_code_formatter) (3.6.2)\n",
      "Requirement already satisfied: jupyter-client>=7.4.4 in /usr/local/lib/python3.10/dist-packages (from jupyter-server<3,>=1.21->jupyterlab_code_formatter) (8.2.0)\n",
      "Requirement already satisfied: sniffio>=1.1 in /usr/local/lib/python3.10/dist-packages (from anyio>=3.1.0->jupyter-server<3,>=1.21->jupyterlab_code_formatter) (1.3.0)\n",
      "Requirement already satisfied: idna>=2.8 in /usr/local/lib/python3.10/dist-packages (from anyio>=3.1.0->jupyter-server<3,>=1.21->jupyterlab_code_formatter) (3.4)\n",
      "Requirement already satisfied: python-dateutil>=2.8.2 in /usr/local/lib/python3.10/dist-packages (from jupyter-client>=7.4.4->jupyter-server<3,>=1.21->jupyterlab_code_formatter) (2.8.2)\n",
      "Requirement already satisfied: platformdirs>=2.5 in /usr/local/lib/python3.10/dist-packages (from jupyter-core!=5.0.*,>=4.12->jupyter-server<3,>=1.21->jupyterlab_code_formatter) (3.5.1)\n",
      "Requirement already satisfied: pyyaml>=5.3 in /usr/local/lib/python3.10/dist-packages (from jupyter-events>=0.4.0->jupyter-server<3,>=1.21->jupyterlab_code_formatter) (6.0)\n",
      "Requirement already satisfied: rfc3986-validator>=0.1.1 in /usr/local/lib/python3.10/dist-packages (from jupyter-events>=0.4.0->jupyter-server<3,>=1.21->jupyterlab_code_formatter) (0.1.1)\n",
      "Requirement already satisfied: rfc3339-validator in /usr/local/lib/python3.10/dist-packages (from jupyter-events>=0.4.0->jupyter-server<3,>=1.21->jupyterlab_code_formatter) (0.1.4)\n",
      "Requirement already satisfied: jsonschema[format-nongpl]>=3.2.0 in /usr/local/lib/python3.10/dist-packages (from jupyter-events>=0.4.0->jupyter-server<3,>=1.21->jupyterlab_code_formatter) (4.17.3)\n",
      "Requirement already satisfied: python-json-logger>=2.0.4 in /usr/local/lib/python3.10/dist-packages (from jupyter-events>=0.4.0->jupyter-server<3,>=1.21->jupyterlab_code_formatter) (2.0.7)\n",
      "Requirement already satisfied: pygments>=2.4.1 in /usr/local/lib/python3.10/dist-packages (from nbconvert>=6.4.4->jupyter-server<3,>=1.21->jupyterlab_code_formatter) (2.15.1)\n",
      "Requirement already satisfied: bleach in /usr/local/lib/python3.10/dist-packages (from nbconvert>=6.4.4->jupyter-server<3,>=1.21->jupyterlab_code_formatter) (6.0.0)\n",
      "Requirement already satisfied: markupsafe>=2.0 in /usr/local/lib/python3.10/dist-packages (from nbconvert>=6.4.4->jupyter-server<3,>=1.21->jupyterlab_code_formatter) (2.1.2)\n",
      "Requirement already satisfied: beautifulsoup4 in /usr/local/lib/python3.10/dist-packages (from nbconvert>=6.4.4->jupyter-server<3,>=1.21->jupyterlab_code_formatter) (4.12.2)\n",
      "Requirement already satisfied: tinycss2 in /usr/local/lib/python3.10/dist-packages (from nbconvert>=6.4.4->jupyter-server<3,>=1.21->jupyterlab_code_formatter) (1.2.1)\n",
      "Requirement already satisfied: nbclient>=0.5.0 in /usr/local/lib/python3.10/dist-packages (from nbconvert>=6.4.4->jupyter-server<3,>=1.21->jupyterlab_code_formatter) (0.7.4)\n",
      "Requirement already satisfied: defusedxml in /usr/local/lib/python3.10/dist-packages (from nbconvert>=6.4.4->jupyter-server<3,>=1.21->jupyterlab_code_formatter) (0.7.1)\n",
      "Requirement already satisfied: jupyterlab-pygments in /usr/local/lib/python3.10/dist-packages (from nbconvert>=6.4.4->jupyter-server<3,>=1.21->jupyterlab_code_formatter) (0.2.2)\n",
      "Requirement already satisfied: mistune<3,>=2.0.3 in /usr/local/lib/python3.10/dist-packages (from nbconvert>=6.4.4->jupyter-server<3,>=1.21->jupyterlab_code_formatter) (2.0.5)\n",
      "Requirement already satisfied: pandocfilters>=1.4.1 in /usr/local/lib/python3.10/dist-packages (from nbconvert>=6.4.4->jupyter-server<3,>=1.21->jupyterlab_code_formatter) (1.5.0)\n",
      "Requirement already satisfied: fastjsonschema in /usr/local/lib/python3.10/dist-packages (from nbformat>=5.3.0->jupyter-server<3,>=1.21->jupyterlab_code_formatter) (2.16.3)\n",
      "Requirement already satisfied: ptyprocess in /usr/local/lib/python3.10/dist-packages (from terminado>=0.8.3->jupyter-server<3,>=1.21->jupyterlab_code_formatter) (0.7.0)\n",
      "Requirement already satisfied: argon2-cffi-bindings in /usr/local/lib/python3.10/dist-packages (from argon2-cffi->jupyter-server<3,>=1.21->jupyterlab_code_formatter) (21.2.0)\n",
      "Requirement already satisfied: attrs>=17.4.0 in /usr/local/lib/python3.10/dist-packages (from jsonschema[format-nongpl]>=3.2.0->jupyter-events>=0.4.0->jupyter-server<3,>=1.21->jupyterlab_code_formatter) (23.1.0)\n",
      "Requirement already satisfied: pyrsistent!=0.17.0,!=0.17.1,!=0.17.2,>=0.14.0 in /usr/local/lib/python3.10/dist-packages (from jsonschema[format-nongpl]>=3.2.0->jupyter-events>=0.4.0->jupyter-server<3,>=1.21->jupyterlab_code_formatter) (0.19.3)\n",
      "Requirement already satisfied: webcolors>=1.11 in /usr/local/lib/python3.10/dist-packages (from jsonschema[format-nongpl]>=3.2.0->jupyter-events>=0.4.0->jupyter-server<3,>=1.21->jupyterlab_code_formatter) (1.13)\n",
      "Requirement already satisfied: jsonpointer>1.13 in /usr/local/lib/python3.10/dist-packages (from jsonschema[format-nongpl]>=3.2.0->jupyter-events>=0.4.0->jupyter-server<3,>=1.21->jupyterlab_code_formatter) (2.3)\n",
      "Requirement already satisfied: fqdn in /usr/local/lib/python3.10/dist-packages (from jsonschema[format-nongpl]>=3.2.0->jupyter-events>=0.4.0->jupyter-server<3,>=1.21->jupyterlab_code_formatter) (1.5.1)\n",
      "Requirement already satisfied: isoduration in /usr/local/lib/python3.10/dist-packages (from jsonschema[format-nongpl]>=3.2.0->jupyter-events>=0.4.0->jupyter-server<3,>=1.21->jupyterlab_code_formatter) (20.11.0)\n",
      "Requirement already satisfied: uri-template in /usr/local/lib/python3.10/dist-packages (from jsonschema[format-nongpl]>=3.2.0->jupyter-events>=0.4.0->jupyter-server<3,>=1.21->jupyterlab_code_formatter) (1.2.0)\n",
      "Requirement already satisfied: six>=1.5 in /usr/lib/python3/dist-packages (from python-dateutil>=2.8.2->jupyter-client>=7.4.4->jupyter-server<3,>=1.21->jupyterlab_code_formatter) (1.16.0)\n",
      "Requirement already satisfied: cffi>=1.0.1 in /usr/local/lib/python3.10/dist-packages (from argon2-cffi-bindings->argon2-cffi->jupyter-server<3,>=1.21->jupyterlab_code_formatter) (1.15.1)\n",
      "Requirement already satisfied: soupsieve>1.2 in /usr/local/lib/python3.10/dist-packages (from beautifulsoup4->nbconvert>=6.4.4->jupyter-server<3,>=1.21->jupyterlab_code_formatter) (2.4.1)\n",
      "Requirement already satisfied: webencodings in /usr/local/lib/python3.10/dist-packages (from bleach->nbconvert>=6.4.4->jupyter-server<3,>=1.21->jupyterlab_code_formatter) (0.5.1)\n",
      "Requirement already satisfied: pycparser in /usr/local/lib/python3.10/dist-packages (from cffi>=1.0.1->argon2-cffi-bindings->argon2-cffi->jupyter-server<3,>=1.21->jupyterlab_code_formatter) (2.21)\n",
      "Requirement already satisfied: arrow>=0.15.0 in /usr/local/lib/python3.10/dist-packages (from isoduration->jsonschema[format-nongpl]>=3.2.0->jupyter-events>=0.4.0->jupyter-server<3,>=1.21->jupyterlab_code_formatter) (1.2.3)\n",
      "\u001b[33mWARNING: Running pip as the 'root' user can result in broken permissions and conflicting behaviour with the system package manager. It is recommended to use a virtual environment instead: https://pip.pypa.io/warnings/venv\u001b[0m\u001b[33m\n",
      "\u001b[0mNote: you may need to restart the kernel to use updated packages.\n"
     ]
    }
   ],
   "source": [
    "%pip install jupyterlab_code_formatter isort black"
   ]
  },
  {
   "cell_type": "code",
   "execution_count": 10,
   "id": "4e86f924-c377-4b2b-bc88-53d27c5cf37b",
   "metadata": {
    "collapsed": true,
    "jupyter": {
     "outputs_hidden": true
    },
    "tags": []
   },
   "outputs": [
    {
     "name": "stdout",
     "output_type": "stream",
     "text": [
      "Collecting black\n",
      "  Downloading black-23.3.0-cp310-cp310-manylinux_2_17_x86_64.manylinux2014_x86_64.whl (1.7 MB)\n",
      "\u001b[2K     \u001b[90m━━━━━━━━━━━━━━━━━━━━━━━━━━━━━━━━━━━━━━━━\u001b[0m \u001b[32m1.7/1.7 MB\u001b[0m \u001b[31m16.1 MB/s\u001b[0m eta \u001b[36m0:00:00\u001b[0ma \u001b[36m0:00:01\u001b[0m\n",
      "\u001b[?25hCollecting click>=8.0.0\n",
      "  Using cached click-8.1.3-py3-none-any.whl (96 kB)\n",
      "Collecting mypy-extensions>=0.4.3\n",
      "  Using cached mypy_extensions-1.0.0-py3-none-any.whl (4.7 kB)\n",
      "Requirement already satisfied: packaging>=22.0 in /usr/local/lib/python3.10/dist-packages (from black) (23.1)\n",
      "Collecting pathspec>=0.9.0\n",
      "  Using cached pathspec-0.11.1-py3-none-any.whl (29 kB)\n",
      "Requirement already satisfied: platformdirs>=2 in /usr/local/lib/python3.10/dist-packages (from black) (3.5.1)\n",
      "Requirement already satisfied: tomli>=1.1.0 in /usr/local/lib/python3.10/dist-packages (from black) (2.0.1)\n",
      "Installing collected packages: pathspec, mypy-extensions, click, black\n",
      "Successfully installed black-23.3.0 click-8.1.3 mypy-extensions-1.0.0 pathspec-0.11.1\n",
      "\u001b[33mWARNING: Running pip as the 'root' user can result in broken permissions and conflicting behaviour with the system package manager. It is recommended to use a virtual environment instead: https://pip.pypa.io/warnings/venv\u001b[0m\u001b[33m\n",
      "\u001b[0m"
     ]
    }
   ],
   "source": [
    "%pip install black"
   ]
  },
  {
   "cell_type": "code",
   "execution_count": null,
   "id": "5c500826-0c08-4c21-a955-c0780a50e634",
   "metadata": {},
   "outputs": [],
   "source": []
  }
 ],
 "metadata": {
  "kernelspec": {
   "display_name": "Python 3 (ipykernel)",
   "language": "python",
   "name": "python3"
  },
  "language_info": {
   "codemirror_mode": {
    "name": "ipython",
    "version": 3
   },
   "file_extension": ".py",
   "mimetype": "text/x-python",
   "name": "python",
   "nbconvert_exporter": "python",
   "pygments_lexer": "ipython3",
   "version": "3.10.6"
  }
 },
 "nbformat": 4,
 "nbformat_minor": 5
}
